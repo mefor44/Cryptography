{
 "cells": [
  {
   "cell_type": "code",
   "execution_count": 1,
   "metadata": {},
   "outputs": [],
   "source": [
    "import numpy as np"
   ]
  },
  {
   "cell_type": "code",
   "execution_count": 2,
   "metadata": {},
   "outputs": [],
   "source": [
    "def dzielniki_pierwsze(n):#wypisuje wszystkie dzielniki pierwsze danej liczby, bez poteg\n",
    "    dzielniki = [1]\n",
    "    b = int(np.floor(n/0.5))\n",
    "    for i in range(2,b+1):\n",
    "        while n%i==0:\n",
    "            if dzielniki[-1]!=i:\n",
    "                dzielniki.append(i)\n",
    "            n = n/i\n",
    "    if len(dzielniki)==1:\n",
    "        dzielniki.append(n)\n",
    "    return dzielniki\n",
    " \n",
    "    \n",
    "def NWD(a,b):#zeby policzyc NWW mozemy skorzystac z NWD(a,b)*NWW(a,b)=a*b\n",
    "    if a==b:\n",
    "        return a\n",
    "    if a != b:\n",
    "        dzielniki_a = [i for i in range(2,a+1) if a%i == 0]\n",
    "        dzielniki_b = [i for i in range(2,b+1) if b%i == 0]\n",
    "        nwd = list(set(dzielniki_a).intersection(dzielniki_b))\n",
    "    if len(nwd)>0:\n",
    "        return max(nwd)\n",
    "    if len(nwd)==0:\n",
    "        return 1\n",
    "    \n",
    "    \n",
    "def modulo(a,n):\n",
    "    while a>=n :\n",
    "        a -= n\n",
    "    while a<0 :\n",
    "        a += n\n",
    "    return a \n",
    "\n",
    "    \n",
    "def decimalToBinary(n):  \n",
    "    return int(bin(n).replace(\"0b\", \"\"))\n",
    "\n",
    "\n",
    "def decimaltobinary_miska(x):\n",
    "    wskazniki =[]\n",
    "    binary = []\n",
    "    while x!=1:\n",
    "        if x%2==0:\n",
    "                x = x/2\n",
    "                binary.append(0)\n",
    "        else:\n",
    "            x = (x-1)/2\n",
    "            binary.append(1)\n",
    "        wskazniki.append(x)\n",
    "    return(wskazniki, binary)\n",
    "\n",
    "\n",
    "def wyznacz_rzad_brute(a,p):\n",
    "    #a bedzie naszym mnoznikiem\n",
    "    kandydat = a\n",
    "    reszty = [kandydat]\n",
    "    for i in range(1,p+1):\n",
    "        while kandydat>=p:\n",
    "            kandydat-= p\n",
    "        if kandydat == 1:\n",
    "            print(a, \"^\",i,\"przystaje do\",kandydat, \"modulo\", p, \"(wyznaczenie rzedu a (mod p))\")\n",
    "            break \n",
    "        reszty.append(kandydat)\n",
    "        kandydat = a*kandydat\n",
    "    reszty = list(set(reszty))\n",
    "    #print(\"Reszty dla\", a, \"sa rowne:\",reszty)\n",
    "    return i, reszty"
   ]
  },
  {
   "cell_type": "code",
   "execution_count": 130,
   "metadata": {},
   "outputs": [
    {
     "name": "stdout",
     "output_type": "stream",
     "text": [
      "3 ^ 42 przystaje do 1 modulo 49 (wyznaczenie rzedu a (mod p))\n"
     ]
    },
    {
     "data": {
      "text/plain": [
       "(42,\n",
       " [2,\n",
       "  3,\n",
       "  4,\n",
       "  5,\n",
       "  6,\n",
       "  8,\n",
       "  9,\n",
       "  10,\n",
       "  11,\n",
       "  12,\n",
       "  13,\n",
       "  15,\n",
       "  16,\n",
       "  17,\n",
       "  18,\n",
       "  19,\n",
       "  20,\n",
       "  22,\n",
       "  23,\n",
       "  24,\n",
       "  25,\n",
       "  26,\n",
       "  27,\n",
       "  29,\n",
       "  30,\n",
       "  31,\n",
       "  32,\n",
       "  33,\n",
       "  34,\n",
       "  36,\n",
       "  37,\n",
       "  38,\n",
       "  39,\n",
       "  40,\n",
       "  41,\n",
       "  43,\n",
       "  44,\n",
       "  45,\n",
       "  46,\n",
       "  47,\n",
       "  48])"
      ]
     },
     "execution_count": 130,
     "metadata": {},
     "output_type": "execute_result"
    }
   ],
   "source": [
    "decimalToBinary(281)\n",
    "wyznacz_rzad_brute(3,49)"
   ]
  },
  {
   "cell_type": "code",
   "execution_count": 10,
   "metadata": {},
   "outputs": [
    {
     "name": "stdout",
     "output_type": "stream",
     "text": [
      "[0, 1]\n",
      "-78145 ^ 1 przystaje do 6527 (modulo 42336 )\n",
      "-78145 ^ 2 przystaje do 11713 (modulo 42336 )\n",
      "-78145 ^ 3 przystaje do 34271 (modulo 42336 )\n",
      "-78145 ^ 6 przystaje do 16129 (modulo 42336 )\n",
      "Algorytm szybkiego potęgowania: [1.0, 3.0, 6]\n"
     ]
    }
   ],
   "source": [
    "#Metoda szybkiego potegowania\n",
    "#algorytm do obliczania a^b(mod p), gdzie a-duza liczba, p-liczba raczej pierwsza, 0=<b<p-1\n",
    "\n",
    "a=6527-2*42336\n",
    "b=6\n",
    "p=42336\n",
    "potegi,binary = decimaltobinary_miska(b)\n",
    "print(binary)\n",
    "potegi.reverse()\n",
    "potegi.append(b)\n",
    "modulo_list = [modulo(a,p)]# tutaj bede przechowywal wyniki szybkiego potegowania, modulo\n",
    "aktualna_potega = 1\n",
    "print(a, \"^\", aktualna_potega, \"przystaje do\", modulo_list[0], \"(modulo\", p, \")\")\n",
    "for i in range(1,len(potegi)):\n",
    "    aktualna_potega *=2 \n",
    "    liczba = modulo(modulo_list[-1]**2,p)\n",
    "    if potegi[i]==aktualna_potega:\n",
    "        print(a, \"^\", aktualna_potega, \"przystaje do\", liczba, \"(modulo\", p, \")\")\n",
    "        \n",
    "    else:\n",
    "        print(a, \"^\", aktualna_potega, \"przystaje do\", liczba, \"(modulo\", p, \")\")\n",
    "        aktualna_potega +=1\n",
    "        liczba = modulo(modulo_list[0]*liczba,p)\n",
    "        print(a, \"^\", aktualna_potega, \"przystaje do\", liczba, \"(modulo\", p, \")\")\n",
    "        \n",
    "    modulo_list.append(liczba)\n",
    "\n",
    "print(\"Algorytm szybkiego potęgowania:\", potegi)"
   ]
  },
  {
   "cell_type": "code",
   "execution_count": 34,
   "metadata": {},
   "outputs": [
    {
     "name": "stdout",
     "output_type": "stream",
     "text": [
      "3.0\n"
     ]
    }
   ],
   "source": [
    "#kod do liczenia a*b=c mod(p), b jest liczba calkowita, bede do prawej strony dodawal p (c = c+p) do czasu az a|c \n",
    "#ogolnie pytanie jest do czego przystaje b, i w ogole go nie podajemy\n",
    "a = 13*11\n",
    "c = -15*5\n",
    "p = 8\n",
    "while c % a != 0: \n",
    "    c +=p\n",
    "    \n",
    "print(c/a)\n",
    "\n",
    "\n"
   ]
  },
  {
   "cell_type": "code",
   "execution_count": 5,
   "metadata": {},
   "outputs": [
    {
     "name": "stdout",
     "output_type": "stream",
     "text": [
      "[1, 59]\n"
     ]
    },
    {
     "data": {
      "text/plain": [
       "1"
      ]
     },
     "execution_count": 5,
     "metadata": {},
     "output_type": "execute_result"
    }
   ],
   "source": [
    "print(dzielniki_pierwsze(59))\n",
    "modulo(16129,2**5)\n",
    "modulo(10**3,3**3)"
   ]
  },
  {
   "cell_type": "code",
   "execution_count": 98,
   "metadata": {},
   "outputs": [
    {
     "name": "stdout",
     "output_type": "stream",
     "text": [
      "[1, 127]\n",
      "[1, 127]\n"
     ]
    }
   ],
   "source": [
    "#do otrzymania rozkladu liczby a na iloczyn liczb pierwszyhc podniesiony do odpowiednich poteg\n",
    "a = 16129\n",
    "dzielniki = dzielniki_pierwsze(a)\n",
    "while dzielniki[-1]>1:\n",
    "    print(dzielniki)\n",
    "    for i in dzielniki:\n",
    "        a = a/i\n",
    "    dzielniki = dzielniki_pierwsze(a)"
   ]
  },
  {
   "cell_type": "code",
   "execution_count": 28,
   "metadata": {},
   "outputs": [
    {
     "data": {
      "text/plain": [
       "16.96794871794872"
      ]
     },
     "execution_count": 28,
     "metadata": {},
     "output_type": "execute_result"
    }
   ],
   "source": [
    "2647/(13*12)"
   ]
  },
  {
   "cell_type": "code",
   "execution_count": 31,
   "metadata": {},
   "outputs": [
    {
     "data": {
      "text/plain": [
       "151"
      ]
     },
     "execution_count": 31,
     "metadata": {},
     "output_type": "execute_result"
    }
   ],
   "source": [
    "2647-13*12*16"
   ]
  },
  {
   "cell_type": "code",
   "execution_count": 7,
   "metadata": {},
   "outputs": [
    {
     "name": "stdout",
     "output_type": "stream",
     "text": [
      "Wybieramy pierwszego kandydata i jest on rowny:  2\n",
      "rzad: 11 reszty: [2, 3, 4, 6, 8, 9, 12, 13, 16, 18]\n",
      "Wybieramy kolejnego kandydata i jest on rowny:  5\n",
      "rzad: 22 reszty: [2, 3, 4, 5, 6, 7, 8, 9, 10, 11, 12, 13, 14, 15, 16, 17, 18, 19, 20, 21, 22]\n",
      "5 jest pierwiastkiem prymitywnym dla p = 23\n"
     ]
    }
   ],
   "source": [
    "#Algorytm Gaussa wyznaczania pierwiastka prymitywnego, oznaczenia jak w wykladzie\n",
    "#def pierwiastek_prymitywny_gauss(p):\n",
    "\n",
    "def krok_n(x):#krok n-ty w algorytmie gaussa\n",
    "    t, reszty = wyznacz_rzad_brute(x,p)\n",
    "    for i in range(2,p):\n",
    "        if i not in reszty:\n",
    "            b = i\n",
    "            break\n",
    "        \n",
    "    print(\"Wybieramy kolejnego kandydata i jest on rowny: \",b)\n",
    "    u, reszty = wyznacz_rzad_brute(b,p)\n",
    "    print(\"rzad:\",u,\"reszty:\",reszty)\n",
    "    if u==p-1:\n",
    "        print(int(b), \"jest pierwiastkiem prymitywnym dla p =\",p)\n",
    "    else:\n",
    "        print(\"rzad dla pierwszego kandydata: t =\",t)\n",
    "        print(\"rzad dla nastepnego kandydata: u =\",u)\n",
    "        v = int(t*u/NWD(u,t))#v to NWW\n",
    "        print(\"v = NWW(u,t)=\",v)\n",
    "        print(\"Liczymy v1 , v2:\")\n",
    "        #szukam v1 i v2\n",
    "        for v1 in range(1,t+1):     \n",
    "            if t%v1==0:\n",
    "                v2 = int(v/v1)\n",
    "                if  (u%v2==0) & (NWD(v1,v2)==1):\n",
    "                    print(\"v = v1 * v2, ktore sa rowne odpowiednio: v1 =\",v1, \"v2 =\",v2 )\n",
    "\n",
    "        a1 = modulo(kandydat1**(t/v1),p)\n",
    "        b1 = modulo(kandydat2**(u/v2),p)\n",
    "        g = modulo(a1*b1,p)\n",
    "        if v == p-1:\n",
    "            print(int(g), \"jest pierwiastkiem prymitywnym dla p =\",p)\n",
    "\n",
    "        else:\n",
    "            krok_n(a1*b1)\n",
    "                \n",
    "                \n",
    "#WLASCIWY ALGORYTM\n",
    "p = 23#MUSI BYC PIERWSZA\n",
    "a = 2\n",
    "print(\"Wybieramy pierwszego kandydata i jest on rowny: \",a)\n",
    "t, reszty = wyznacz_rzad_brute(a,p)\n",
    "print(\"rzad:\",t,\"reszty:\",reszty)\n",
    "if t == p-1:\n",
    "        print(int(a), \"jest pierwiastkiem prymitywnym dla p =\",p)\n",
    "else:\n",
    "    krok_n(a)\n",
    "\n",
    "\n",
    "\n",
    "\n"
   ]
  },
  {
   "cell_type": "code",
   "execution_count": 3,
   "metadata": {},
   "outputs": [
    {
     "name": "stdout",
     "output_type": "stream",
     "text": [
      "n jest rowne 19\n",
      "eleement odwortny to 180\n",
      "[1, 101, 254, 272, 32, 145, 239, 129, 338, 181, 102, 12, 183, 304, 177, 41, 25, 124, 176, 283]\n",
      "[100, 227, 162, 306, 235, 139, 72, 136, 295, 138, 32, 251, 93, 290, 281, 264, 270, 167, 163, 3]\n",
      "element wspolny to 32 dla indeksow 4 10\n",
      "rozwiazanie to 194\n"
     ]
    }
   ],
   "source": [
    "#Algorytm Shanksa, dla g^x=a(mod p) --> znajdz x\n",
    "#Dane:\n",
    "p = 343\n",
    "g = 101\n",
    "a = 100\n",
    "#Obliczenia:\n",
    "n = int(1 + np.floor(np.sqrt(p-1)))\n",
    "print(\"n jest rowne\",n)\n",
    "##### szukam g_odwr\n",
    "c = 1\n",
    "while c % g != 0: \n",
    "    c +=p\n",
    "g_odwr = int(c/g)\n",
    "#################\n",
    "lista1 = [1]\n",
    "g1 = g\n",
    "for i in range(1,n+1):\n",
    "    while g1>=p:\n",
    "        g1 -= p\n",
    "    lista1.append(g1)\n",
    "    g1 = g1*g\n",
    "\n",
    "lista2 = [a]\n",
    "g2= a* g_odwr\n",
    "for i in range(1,n**2+1):\n",
    "    while g2>=p:\n",
    "        g2 -= p\n",
    "    if i%n==0:\n",
    "        lista2.append(g2)\n",
    "    g2 = g2*g_odwr\n",
    "print(\"eleement odwortny to\",g_odwr)\n",
    "print(lista1)\n",
    "print(lista2)\n",
    "for i in range(len(lista1)):\n",
    "    for j in range(len(lista2)):\n",
    "        if lista1[i]==lista2[j]:\n",
    "            print(\"element wspolny to\",lista1[i], \"dla indeksow\",i,j)\n",
    "            x = i + j*n\n",
    "            print(\"rozwiazanie to\",x)\n",
    "    "
   ]
  },
  {
   "cell_type": "code",
   "execution_count": 214,
   "metadata": {},
   "outputs": [
    {
     "name": "stdout",
     "output_type": "stream",
     "text": [
      "[6527, 14465, 27695, 35633]\n"
     ]
    }
   ],
   "source": [
    "#Zad7.1a) - szukanie ostatecznych rozwiazan\n",
    "lista = []\n",
    "for i in range(42336):\n",
    "    if ((i%32==1) | (i%32==31) | (i%32==15) | (i%32==17)) & ((i%27==2) \n",
    "        | (i%27==16) | i%27==20 | (i%27==25) | (i%27==11) | (i%27==7)) & ((i%49==43) \n",
    "        | i%49==10 | (i%49==16) | (i%49==6) | (i%49==39) | (i%49==33)):\n",
    "        lista.append(i)\n",
    "        \n",
    "print(lista)\n",
    "\n"
   ]
  },
  {
   "cell_type": "code",
   "execution_count": null,
   "metadata": {},
   "outputs": [],
   "source": []
  },
  {
   "cell_type": "code",
   "execution_count": 6,
   "metadata": {},
   "outputs": [
    {
     "name": "stdout",
     "output_type": "stream",
     "text": [
      "hurra cykl znalezniony, dla 2i = 44\n",
      "118 -40\n",
      "118 *t= -40 (mod 294 ) <--- trzeba policzyc t\n",
      "lista xi: [100, 53, 208, 220, 48, 246, 148, 51, 200, 306, 340, 43, 184, 221, 26, 225, 204, 113, 94, 139, 180, 158]\n",
      "lista x2i: [53, 220, 246, 51, 306, 43, 221, 225, 113, 139, 158, 158, 158, 158, 158, 158, 158, 158, 158, 158, 158, 158]\n",
      "lista ui: [1, 2, 2, 3, 4, 8, 16, 17, 34, 34, 68, 69, 70, 71, 71, 71, 142, 284, 284, 285, 286, 278]\n",
      "lista u2i: [2, 3, 8, 17, 34, 69, 71, 71, 284, 285, 278, 262, 230, 166, 38, 76, 152, 10, 20, 40, 80, 160]\n",
      "lista vi: [0, 0, 1, 1, 1, 2, 4, 4, 8, 9, 18, 18, 18, 18, 19, 20, 40, 80, 81, 81, 81, 162]\n",
      "lista v2i: [0, 1, 2, 4, 9, 18, 18, 20, 80, 81, 162, 32, 66, 134, 270, 248, 204, 116, 234, 176, 60, 122]\n"
     ]
    }
   ],
   "source": [
    "#Algorytm rho pollarda\n",
    "p=343\n",
    "g=101\n",
    "a=100\n",
    "fi_p = 6*7**2#narazie trzeba liczyc to recznie \n",
    "def f(x,a,g,p):\n",
    "    if x%3 == 1:\n",
    "        return modulo(a*x,p)\n",
    "    elif x%3 == 0:\n",
    "        return modulo(x**2,p)\n",
    "    else:\n",
    "        return modulo(g*x,p)\n",
    "\n",
    "def ciag_u(x_poprzednie,u_poprzednie,fi_p):\n",
    "    if x_poprzednie%3 == 1:\n",
    "        return modulo(u_poprzednie+1,fi_p)\n",
    "    elif x_poprzednie%3 == 0:\n",
    "        return modulo(2*u_poprzednie,fi_p)\n",
    "    else:\n",
    "        return u_poprzednie\n",
    "    \n",
    "def ciag_v(x_poprzednie,v_poprzednie,fi_p):\n",
    "    if x_poprzednie%3 == 1:\n",
    "        return modulo(v_poprzednie,fi_p)\n",
    "    elif x_poprzednie%3 == 0:\n",
    "        return modulo(2*v_poprzednie,fi_p)\n",
    "    else:\n",
    "        return v_poprzednie+1\n",
    "u0=0\n",
    "v0=0\n",
    "x0=1\n",
    "\n",
    "dalej = \"tak\"\n",
    "lista_xi = []\n",
    "lista_x2i = []\n",
    "lista_ui = []\n",
    "lista_u2i = []\n",
    "lista_vi = []\n",
    "lista_v2i = []\n",
    "\n",
    "i=1\n",
    "while dalej == \"tak\":\n",
    "    #ponizej bede uzupelnial wszystkie listy\n",
    "    if i == 1:\n",
    "        x_poprzedni = x0\n",
    "        u_poprzedni = u0\n",
    "        v_poprzedni = v0\n",
    "    u = ciag_u(x_poprzedni,u_poprzedni,fi_p=fi_p)\n",
    "    v = ciag_v(x_poprzedni,v_poprzedni,fi_p=fi_p)\n",
    "    x = f(x_poprzedni,a=a,g=g,p=p)\n",
    "    \n",
    "    lista_xi.append(x)\n",
    "    lista_ui.append(u)\n",
    "    lista_vi.append(v)\n",
    "    if i%2 == 0:\n",
    "        lista_x2i.append(x)\n",
    "        lista_u2i.append(u)\n",
    "        lista_v2i.append(v)\n",
    "        length = len(lista_x2i)\n",
    "        if lista_xi[length-1]==lista_x2i[length-1]:\n",
    "            print(\"hurra cykl znalezniony, dla 2i =\",i )\n",
    "            dalej = \"nie\"   \n",
    "            \n",
    "    x_poprzedni = x\n",
    "    u_poprzedni = u\n",
    "    v_poprzedni = v\n",
    "    i+=1\n",
    "#robimy kongruencje, trzeba ja policzyc recznie\n",
    "lewa = lista_ui[length-1]-lista_u2i[-1]\n",
    "prawa = lista_v2i[-1]-lista_vi[length-1]\n",
    "if modulo(lewa,fi_p) ==0:\n",
    "    print(\"Kurde, trzeba wziąc inne startowe x0.\")\n",
    "else:\n",
    "    print(lewa,prawa)\n",
    "    print(lewa,\"*t=\",prawa, \"(mod\",fi_p,\")\", \"<--- trzeba policzyc t\")\n",
    "\n",
    "    \n",
    "print(\"lista xi:\",lista_xi[:length])\n",
    "print(\"lista x2i:\",lista_x2i)\n",
    "print(\"lista ui:\",lista_ui[:length])\n",
    "print(\"lista u2i:\",lista_u2i)\n",
    "print(\"lista vi:\",lista_vi[:length])\n",
    "print(\"lista v2i:\",lista_v2i)\n",
    "\n"
   ]
  },
  {
   "cell_type": "code",
   "execution_count": 211,
   "metadata": {},
   "outputs": [
    {
     "name": "stdout",
     "output_type": "stream",
     "text": [
      "hurra cykl znalezniony, dla 2i = 24\n",
      "332\n",
      "-208 *t= 416 (mod 540 ) <--- trzeba policzyc t\n",
      "lista xi: [13, 169, 33, 7, 91, 101, 202, 462, 290, 39, 439, 297]\n",
      "lista x2i: [169, 7, 101, 462, 39, 297, 52, 372, 101, 462, 39, 297]\n",
      "lista ui: [1, 2, 3, 6, 7, 8, 8, 9, 18, 18, 36, 37]\n",
      "lista u2i: [2, 6, 8, 9, 18, 37, 74, 150, 60, 61, 122, 245]\n",
      "lista vi: [0, 0, 0, 0, 0, 0, 1, 1, 2, 3, 6, 6]\n",
      "lista v2i: [0, 0, 0, 1, 3, 6, 13, 26, 104, 105, 211, 422]\n"
     ]
    }
   ],
   "source": [
    "#Algorytm rho pollarda\n",
    "p=541\n",
    "g=2\n",
    "a=13\n",
    "fi_p = 540#narazie trzeba liczyc to recznie \n",
    "def f(x,a,g,p):\n",
    "    if x%3 == 1:\n",
    "        return modulo(a*x,p)\n",
    "    elif x%3 == 0:\n",
    "        return modulo(x**2,p)\n",
    "    else:\n",
    "        return modulo(g*x,p)\n",
    "\n",
    "def ciag_u(x_poprzednie,u_poprzednie,fi_p):\n",
    "    if x_poprzednie%3 == 1:\n",
    "        return modulo(u_poprzednie+1,fi_p)\n",
    "    elif x_poprzednie%3 == 0:\n",
    "        return modulo(2*u_poprzednie,fi_p)\n",
    "    else:\n",
    "        return u_poprzednie\n",
    "    \n",
    "def ciag_v(x_poprzednie,v_poprzednie,fi_p):\n",
    "    if x_poprzednie%3 == 1:\n",
    "        return modulo(v_poprzednie,fi_p)\n",
    "    elif x_poprzednie%3 == 0:\n",
    "        return modulo(2*v_poprzednie,fi_p)\n",
    "    else:\n",
    "        return v_poprzednie+1\n",
    "u0=0\n",
    "v0=0\n",
    "x0=1\n",
    "\n",
    "dalej = \"tak\"\n",
    "lista_xi = []\n",
    "lista_x2i = []\n",
    "lista_ui = []\n",
    "lista_u2i = []\n",
    "lista_vi = []\n",
    "lista_v2i = []\n",
    "\n",
    "i=1\n",
    "while dalej == \"tak\":\n",
    "    #ponizej bede uzupelnial wszystkie listy\n",
    "    if i == 1:\n",
    "        x_poprzedni = x0\n",
    "        u_poprzedni = u0\n",
    "        v_poprzedni = v0\n",
    "    u = ciag_u(x_poprzedni,u_poprzedni,fi_p=fi_p)\n",
    "    v = ciag_v(x_poprzedni,v_poprzedni,fi_p=fi_p)\n",
    "    x = f(x_poprzedni,a=a,g=g,p=p)\n",
    "    \n",
    "    lista_xi.append(x)\n",
    "    lista_ui.append(u)\n",
    "    lista_vi.append(v)\n",
    "    if i%2 == 0:\n",
    "        lista_x2i.append(x)\n",
    "        lista_u2i.append(u)\n",
    "        lista_v2i.append(v)\n",
    "        length = len(lista_x2i)\n",
    "        if lista_xi[length-1]==lista_x2i[length-1]:\n",
    "            print(\"hurra cykl znalezniony, dla 2i =\",i )\n",
    "            dalej = \"nie\"   \n",
    "            \n",
    "    x_poprzedni = x\n",
    "    u_poprzedni = u\n",
    "    v_poprzedni = v\n",
    "    i+=1\n",
    "#robimy kongruencje, trzeba ja policzyc recznie\n",
    "lewa = lista_ui[length-1]-lista_u2i[-1]\n",
    "prawa = lista_v2i[-1]-lista_vi[length-1]\n",
    "if modulo(lewa,fi_p) ==0:\n",
    "    print(\"Kurde, trzeba wziąc inne startowe x0.\")\n",
    "else:\n",
    "    print(modulo(lewa,fi_p))\n",
    "    print(lewa,\"*t=\",prawa, \"(mod\",fi_p,\")\", \"<--- trzeba policzyc t\")\n",
    "\n",
    "    \n",
    "print(\"lista xi:\",lista_xi[:length])\n",
    "print(\"lista x2i:\",lista_x2i)\n",
    "print(\"lista ui:\",lista_ui[:length])\n",
    "print(\"lista u2i:\",lista_u2i)\n",
    "print(\"lista vi:\",lista_vi[:length])\n",
    "print(\"lista v2i:\",lista_v2i)\n"
   ]
  },
  {
   "cell_type": "code",
   "execution_count": 195,
   "metadata": {},
   "outputs": [
    {
     "data": {
      "text/plain": [
       "12"
      ]
     },
     "execution_count": 195,
     "metadata": {},
     "output_type": "execute_result"
    }
   ],
   "source": [
    "12%24\n",
    "    "
   ]
  },
  {
   "cell_type": "code",
   "execution_count": 89,
   "metadata": {},
   "outputs": [
    {
     "data": {
      "text/plain": [
       "66"
      ]
     },
     "execution_count": 89,
     "metadata": {},
     "output_type": "execute_result"
    }
   ],
   "source": [
    "modulo(2**33,67)"
   ]
  },
  {
   "cell_type": "code",
   "execution_count": 16,
   "metadata": {},
   "outputs": [
    {
     "data": {
      "text/plain": [
       "9.848857801796104"
      ]
     },
     "execution_count": 16,
     "metadata": {},
     "output_type": "execute_result"
    }
   ],
   "source": [
    "np.sqrt(97)"
   ]
  },
  {
   "cell_type": "code",
   "execution_count": 153,
   "metadata": {},
   "outputs": [
    {
     "data": {
      "text/plain": [
       "5309850"
      ]
     },
     "execution_count": 153,
     "metadata": {},
     "output_type": "execute_result"
    }
   ],
   "source": [
    "210*389*65"
   ]
  },
  {
   "cell_type": "code",
   "execution_count": null,
   "metadata": {},
   "outputs": [],
   "source": []
  }
 ],
 "metadata": {
  "kernelspec": {
   "display_name": "Python 3",
   "language": "python",
   "name": "python3"
  },
  "language_info": {
   "codemirror_mode": {
    "name": "ipython",
    "version": 3
   },
   "file_extension": ".py",
   "mimetype": "text/x-python",
   "name": "python",
   "nbconvert_exporter": "python",
   "pygments_lexer": "ipython3",
   "version": "3.7.3"
  }
 },
 "nbformat": 4,
 "nbformat_minor": 2
}
